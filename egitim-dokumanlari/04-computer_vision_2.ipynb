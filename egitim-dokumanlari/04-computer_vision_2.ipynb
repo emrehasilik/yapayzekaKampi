{
  "cells": [
    {
      "cell_type": "markdown",
      "metadata": {
        "id": "FXyrGbX3RDbq"
      },
      "source": [
        "# ✨ YAPAY ZEKA TOPLULUĞU | YAPAY ZEKA GELİŞİM KAMPI\n",
        "## 🎖️ MIDDLE PLUS HAFTA 4\n"
      ]
    },
    {
      "cell_type": "markdown",
      "metadata": {
        "id": "8tilyKOaR_gF"
      },
      "source": [
        "# GAN (Generative Adversarial Network)"
      ]
    },
    {
      "cell_type": "markdown",
      "metadata": {
        "id": "cAug0gC1SEuj"
      },
      "source": [
        "GAN (Generative Adversarial Network), iki birbirine karşıt yapay sinir ağından oluşan bir derin öğrenme modelidir: biri üretici (generator), diğeri ise ayırt edici (discriminator) olarak adlandırılır. GAN'lar, gerçekçi veri örnekleri üretmek için öğrenme sürecinde rekabet ederler. Genellikle görüntü sentezi gibi görevlerde kullanılırlar, ancak teorik olarak diğer veri türleri için de uygulanabilirler.\n",
        "\n",
        "İşleyiş şu şekildedir:\n",
        "\n",
        "1. **Üretici (Generator)**: Üretici, rastgele gürültü veya başka bir giriş verisi alarak gerçekçi veri örnekleri üretmeye çalışır. Örneğin, bir GAN modeli, rastgele vektörlerden gerçekçi görüntüler üretebilir. Başlangıçta, üretici rastgele çıktılar üretir, ancak eğitim süreci ilerledikçe, ürettiği çıktılar gerçek veri örneklerine daha benzemeye başlar.\n",
        "\n",
        "2. **Ayırt Edici (Discriminator)**: Ayırt edici, gelen veri örneklerinin gerçek veya sahte olduğunu belirlemeye çalışır. Gerçek veri örnekleriyle karşılaştırılarak eğitilir ve daha sonra üretici tarafından üretilen veri örneklerini gerçekle karşılaştırır. Ayırt edici, gerçek verileri mümkün olduğunca gerçekçi olarak tanımlamaya ve sahte verileri tespit etmeye çalışır.\n",
        "\n",
        "3. **Eğitim Süreci**: GAN'ın eğitimi sırasında, üretici ve ayırt edici arasında bir rekabet ortamı oluşur. Üretici, ayırt edicinin yanıltılmasını ve sahte verilerin gerçek gibi algılanmasını sağlamaya çalışırken, ayırt edici gerçek ve sahte veriler arasındaki farkı belirleyerek üreticiyi geliştirmeye çalışır. Bu sürekli rekabet ve geri besleme döngüsü, her iki ağın da giderek daha iyi hale gelmesini sağlar.\n",
        "\n",
        "4. **Sonuç**: Eğitim tamamlandığında, üretici tarafından üretilen veri örnekleri gerçek verilere oldukça benzer hale gelir. GAN'lar genellikle yeni ve gerçekçi veri örnekleri üretmek için kullanılır. Örneğin, yüz sentezi, araba görüntüleri oluşturma gibi görevlerde GAN'lar oldukça etkilidir.\n",
        "\n",
        "Bir GAN modelini kullanmak, genellikle derin öğrenme çerçevesi (TensorFlow, PyTorch vb.) üzerinde modeli oluşturmayı, eğitmeyi ve sonuçları değerlendirmeyi içerir. Başlangıç ​​olarak, bu tür bir modeli eğitmek için bir veri setine ihtiyacınız olacaktır. GAN'lar genellikle yüksek hesaplama gücü gerektirir ve eğitim süreci uzun sürebilir. Ancak, eğitim tamamlandığında, üretici tarafından üretilen gerçekçi veri örnekleri elde edersiniz."
      ]
    },
    {
      "cell_type": "markdown",
      "metadata": {
        "id": "AdQPE1g8SM2L"
      },
      "source": [
        "# GAN & Computer Vision"
      ]
    },
    {
      "cell_type": "markdown",
      "metadata": {
        "id": "d_FKNh2ISRdw"
      },
      "source": [
        "GAN'lar, bilgisayarlı görü alanında birçok farklı amaçla kullanılabilir. İşte GAN'ların bilgisayarlı görüde nasıl ve hangi amaçlarla kullanılabileceğine dair bazı örnekler:\n",
        "\n",
        "1. **Veri Artırma (Data Augmentation)**: Sınırlı sayıda eğitim verisine sahip olduğunuzda, modelinizin genelleme yeteneğini artırmak için GAN'lar kullanılabilir. GAN'lar, mevcut veri setinden yeni ve gerçekçi veri örnekleri üreterek veri setini çeşitlendirebilir ve genişletebilir.\n",
        "\n",
        "2. **Görüntü Sentezi (Image Synthesis)**: GAN'lar, gerçekçi görüntülerin sentezlenmesi için kullanılabilir. Örneğin, yüzler, araba görüntüleri, manzara resimleri gibi gerçekçi ve yeni görüntüler üretebilirler. Bu, sanal ortamlar oluşturmak veya eksik veya hasarlı görüntüleri tamamlamak için kullanılabilir.\n",
        "\n",
        "3. **Stil Transferi (Style Transfer)**: GAN'lar, bir görüntünün bir başka görüntünün stiline dönüştürülmesi için kullanılabilir. Örneğin, ünlü bir ressamın tarzındaki bir resmi gerçek dünya görüntülerine uygulayarak yeni ve benzersiz görüntüler elde edilebilir.\n",
        "\n",
        "4. **Görüntü Düzenleme (Image Editing)**: GAN'lar, görüntüleri düzenlemek için kullanılabilir. Örneğin, bir görüntünün renklerini değiştirmek, nesneleri eklemek veya kaldırmak gibi değişiklikler yapılabilir.\n",
        "\n",
        "5. **Görüntü Tamamlama (Image Inpainting)**: GAN'lar, eksik veya hasarlı görüntülerin tamamlanması için kullanılabilir. Örneğin, bir fotoğrafta bulanık veya kaybolmuş bir bölge varsa, GAN'lar bu bölgeyi tahmin ederek tamamlayabilir.\n",
        "\n",
        "6. **Görüntü Süper Çözünürlük (Image Super-Resolution)**: GAN'lar, düşük çözünürlüklü görüntüleri yüksek çözünürlüklü görüntülere dönüştürmek için kullanılabilir. Bu, video kalitesini artırmak veya görüntüleri yakınlaştırmak için kullanılabilir."
      ]
    },
    {
      "cell_type": "markdown",
      "metadata": {
        "id": "5qxy35geSUgr"
      },
      "source": [
        "Kaynaklar:\n",
        "\n",
        "* https://theaisummer.com/gan-computer-vision/\n",
        "* https://arxiv.org/pdf/1906.01529\n",
        "* https://www.youtube.com/watch?v=MZmNxvLDdV0&pp=ygUTZ2FuIGNvbXB1dGVyIHZpc2lvbg%3D%3D"
      ]
    },
    {
      "cell_type": "markdown",
      "metadata": {},
      "source": [
        "# Okuma Köşesi\n",
        "\n",
        "### Görüntü İşleme (İmage Processing) Nedir?\n",
        "Görüntü işleme, bir resmi veya videoyu alıp bilgisayarın anlayabileceği hale getirme sürecidir. Önce görüntü temizlenir ve düzeltilir. Daha sonra, içindeki nesneler, şekiller veya renkler belirlenir. Bilgisayar bu bilgileri kullanarak görüntüyü analiz eder ve anlam çıkarmaya çalışır. Örneğin, bir yüz tanıma sistemi, önce yüzün olduğu bölgeyi bulur, sonra yüz hatlarını analiz eder ve kime ait olduğunu belirler. Bu teknoloji güvenlik kameraları, tıbbi görüntüleme, araç plakası okuma gibi birçok alanda kullanılır.\n",
        "\n",
        "### OpenCv Nedir?\n",
        "OpenCV (Open Source Computer Vision Library), bilgisayarla görme (computer vision) ve makine öğrenimi uygulamaları için kullanılan açık kaynaklı bir kütüphanedir. Görüntü işleme, video analiz, yüz tanıma, hareket takibi ve daha birçok bilgisayarla görme görevini yerine getirmek için kullanılır."
      ]
    },
    {
      "cell_type": "markdown",
      "metadata": {
        "id": "LTwz8FlvSpQa"
      },
      "source": [
        "## Ödev\n",
        "\n",
        "Videodaki uygulamayı yapınız: https://www.youtube.com/watch?v=AALBGpLbj6Q"
      ]
    },
    {
      "cell_type": "code",
      "execution_count": null,
      "metadata": {
        "id": "UviTvIUJStXk"
      },
      "outputs": [],
      "source": [
        "# Ödev kodlarını buraya yazınız."
      ]
    }
  ],
  "metadata": {
    "colab": {
      "provenance": []
    },
    "kernelspec": {
      "display_name": "Python 3",
      "name": "python3"
    },
    "language_info": {
      "name": "python"
    }
  },
  "nbformat": 4,
  "nbformat_minor": 0
}
