{
  "cells": [
    {
      "cell_type": "markdown",
      "metadata": {
        "id": "pUr0iUQ_0RN0"
      },
      "source": [
        "# ✨ YAPAY ZEKA TOPLULUĞU | YAPAY ZEKA GELİŞİM KAMPI\n",
        "## 🎖️ MIDDLE PLUS HAFTA 3"
      ]
    },
    {
      "cell_type": "markdown",
      "metadata": {
        "id": "zKT6OMf_0ehB"
      },
      "source": [
        "## Bilgisayarlı Görü - I"
      ]
    },
    {
      "cell_type": "markdown",
      "metadata": {
        "id": "fgTS03TY0kZG"
      },
      "source": [
        "Bilgisayarlı görü, bilgisayarların görüntü ve video verilerini analiz etme, anlama ve işleme yeteneğidir. Bu, kameradan alınan bir görüntüyü anlamak, nesneleri tanımak, yüzleri algılamak, trafik işaretlerini okumak gibi çeşitli uygulamaları içerir.\n",
        "\n",
        "Derin öğrenme, bilgisayarlı görü uygulamalarında yaygın olarak kullanılmaktadır. Öncelikle, geniş bir görüntü veri seti toplanır ve bu veri seti etiketlenir (örneğin, görüntülerdeki nesnelerin etiketleri eklenir). Daha sonra, derin öğrenme modeli, bu veri setini kullanarak öğrenme yapar. Model, giriş verilerini (örneğin, bir görüntüyü) alır ve çıktı olarak doğru etiketi tahmin eder.\n",
        "\n",
        "* http://vision.stanford.edu/teaching/cs131_fall1718/files/cs131-class-notes.pdf\n",
        "\n",
        "* https://cs231n.stanford.edu/slides/2022/lecture_1_2_ruohan.pdf"
      ]
    },
    {
      "cell_type": "markdown",
      "metadata": {
        "id": "rONavuDE1bbA"
      },
      "source": [
        "### OpenCV\n",
        "\n",
        "OpenCV (Açık Kaynak Bilgisayarlı Görü Kütüphanesi), Intel tarafından başlatılmış ve şu anda açık kaynak topluluğu tarafından geliştirilen bir bilgisayarlı görü ve görüntü işleme kütüphanesidir. C, C++, Python, ve Java gibi dillerde kullanılabilir. İşlevleri geniş bir yelpazede bulunmakta olup görüntü işleme, nesne tespiti, yüz tanıma, video analizi gibi birçok bilgisayarlı görü görevi için kullanılır.\n",
        "\n",
        "\n",
        "Temel Özellikler:\n",
        "\n",
        "* Görüntü İşleme: OpenCV, görüntü işleme için bir dizi işlev sağlar. Renk uzayları dönüşümleri, filtreleme, morfolojik işlemler, kenar tespiti, ve görüntü segmentasyonu gibi birçok işlev bulunmaktadır.\n",
        "\n",
        "* Nesne Tespiti ve Takibi: OpenCV, nesneleri algılamak, tanımak ve takip etmek için kullanılabilir. Önceden eğitilmiş nesne tanıma modellerini kullanarak veya özelleştirilmiş nesne tespiti modelleri eğiterek nesne tespiti yapabilirsiniz. Ayrıca, nesnelerin hareketini izlemek için kullanılan takip algoritmaları da bulunmaktadır.\n",
        "\n",
        "* Yüz Tanıma: OpenCV, yüz tanıma için hazır modüller sağlar. Yüz algılama, yüz tanıma, göz tespiti gibi işlevler bu modüller içinde bulunur.\n",
        "\n",
        "* Kamera ve Video İşleme: OpenCV, kamera ve video akışlarını yakalamak, kaydetmek ve işlemek için kullanılabilir. Bu özellik, video analizi, hareket tespiti ve video akışı uygulamaları geliştirmek için kullanışlıdır.\n",
        "\n",
        "* Görüntü Kalibrasyonu: OpenCV, kamera kalibrasyonu ve stereo görüntü işleme gibi özellikler de içerir. Bu, 3B modelleme ve derinlik algılama gibi uygulamalar için önemlidir.\n",
        "\n",
        "Kullanım Alanları:\n",
        "\n",
        "* Endüstriyel Otomasyon ve Robotik\n",
        "* Tıbbi Görüntüleme ve Analiz\n",
        "* Otomotiv Uygulamaları\n",
        "* Güvenlik ve Gözetim Sistemleri\n",
        "* Artırılmış Gerçeklik ve Sanal Gerçeklik\n",
        "* Biyometrik Tanıma\n",
        "* Video Oyunları ve Eğlence\n",
        "\n",
        "OpenCV Kullanımı:\n",
        "\n",
        "* Yüklemek ve Başlamak: OpenCV'yi kullanmaya başlamak için, dilinize uygun olan kütüphaneyi yüklemeniz gerekir. Python kullanıyorsanız, pip aracılığıyla pip install opencv-python komutu ile OpenCV'yi yükleyebilirsiniz.\n",
        "\n",
        "* Temel İşlemler: OpenCV'yi kullanarak görüntüleri okuma, yazma, görüntü işleme işlemleri yapma gibi temel işlemleri gerçekleştirebilirsiniz.\n",
        "\n",
        "* Görüntü İşleme ve Analiz: OpenCV, görüntü işleme algoritmalarını uygulamak için bir dizi işlev sağlar. Bu, görüntü filtreleme, kenar tespiti, görüntü dönüşümleri gibi işlemleri içerir.\n",
        "\n",
        "* Nesne Tespiti ve Tanıma: OpenCV, önceden eğitilmiş nesne tespiti modellerini kullanarak veya kendi verilerinizle eğittiğiniz modelleri kullanarak nesne tespiti ve tanıma yapmanızı sağlar.\n",
        "\n",
        "* Yüz Tanıma ve Takibi: OpenCV, yüz tanıma ve takibi için özel işlevler sağlar. Bu, yüz algılama, yüz tanıma ve yüzün konumunu izleme gibi işlemleri içerir.\n",
        "\n",
        "* Kamera ve Video İşleme: OpenCV, kamera ve video akışlarını yakalamak, işlemek ve görüntülemek için kullanılabilir. Bu, video analizi, hareket tespiti ve video üzerinde işlemler yapma gibi işlevleri içerir.\n",
        "\n",
        "OpenCV'nin belirtildiği gibi, birçok uygulama alanı vardır ve bilgisayarlı görü ve görüntü işleme alanında projeler geliştirmek isteyenler için güçlü bir araçtır."
      ]
    },
    {
      "cell_type": "markdown",
      "metadata": {
        "id": "1-DC0eBj2EQL"
      },
      "source": [
        "Kaynaklar:\n",
        "* https://www.geeksforgeeks.org/opencv-overview/?ref=header_search\n",
        "* https://opencv.org/\n",
        "* https://www.youtube.com/watch?v=ytsvnQpyFZg\n",
        "* https://www.youtube.com/watch?v=oXlwWbU8l2o\n",
        "* https://www.analyticsvidhya.com/blog/2021/05/image-processing-using-opencv-with-practical-examples/"
      ]
    },
    {
      "cell_type": "markdown",
      "metadata": {
        "id": "mphlQG3w2hVZ"
      },
      "source": [
        "#### OpenCV Face Detection Uygulaması"
      ]
    },
    {
      "cell_type": "code",
      "execution_count": null,
      "metadata": {
        "id": "aOpWJNoP2lzs"
      },
      "outputs": [],
      "source": [
        "%pip install opencv-python"
      ]
    },
    {
      "cell_type": "markdown",
      "metadata": {
        "id": "zIyMD6Xt3Dft"
      },
      "source": [
        "OpenCV kütüphanesini dahil edelim"
      ]
    },
    {
      "cell_type": "code",
      "execution_count": null,
      "metadata": {
        "id": "nAcjmrY43F6V"
      },
      "outputs": [],
      "source": [
        "import cv2"
      ]
    },
    {
      "cell_type": "markdown",
      "metadata": {
        "id": "BmU-6J2X3I3q"
      },
      "source": [
        "Yüz tespiti yapmak istediğimiz fotoğrafı yükleyelim.\n",
        "\n",
        "input_image.jpg adlı bir resim dosyası belirlenir ve cv2.imread() fonksiyonuyla bu resim yüklenir."
      ]
    },
    {
      "cell_type": "code",
      "execution_count": null,
      "metadata": {
        "id": "TA2z16uV3OYN"
      },
      "outputs": [],
      "source": [
        "imagePath = 'input_image.jpg'\n",
        "\n",
        "img = cv2.imread(imagePath)"
      ]
    },
    {
      "cell_type": "markdown",
      "metadata": {
        "id": "oxwnJxw93VO_"
      },
      "source": [
        "shape özelliği kullanılarak, yüklenen resmin boyutları alınır. Bu, resmin yükseklik, genişlik ve kanal sayısını içeren bir tuple döndürür."
      ]
    },
    {
      "cell_type": "code",
      "execution_count": null,
      "metadata": {
        "id": "EdLn-7SG3WR1"
      },
      "outputs": [],
      "source": [
        "img.shape"
      ]
    },
    {
      "cell_type": "markdown",
      "metadata": {
        "id": "7lSNFgPe3akx"
      },
      "source": [
        "cv2.cvtColor() fonksiyonu ile renkli görüntü, gri tonlamalıya dönüştürülür. Bu, yüz tanıma işleminde genellikle kullanılan bir adımdır."
      ]
    },
    {
      "cell_type": "code",
      "execution_count": null,
      "metadata": {
        "id": "hHZ-KX8J3cDJ"
      },
      "outputs": [],
      "source": [
        "gray_image = cv2.cvtColor(img, cv2.COLOR_BGR2GRAY)\n",
        "\n",
        "gray_image.shape"
      ]
    },
    {
      "cell_type": "markdown",
      "metadata": {
        "id": "CHu1hFYu3dRG"
      },
      "source": [
        "Yüz Tanıma Sınıflandırıcısının Yüklenmesi: Yüz tespiti için kullanılacak olan Haar sınıflandırıcısı yüklenir. Bu, OpenCV'nin içinde yer alan önceden eğitilmiş bir sınıflandırıcıdır."
      ]
    },
    {
      "cell_type": "code",
      "execution_count": null,
      "metadata": {
        "id": "qkZ6CweM3iLe"
      },
      "outputs": [],
      "source": [
        "face_classifier = cv2.CascadeClassifier(\n",
        "    cv2.data.haarcascades + \"haarcascade_frontalface_default.xml\"\n",
        ")\n"
      ]
    },
    {
      "cell_type": "markdown",
      "metadata": {
        "id": "DADSDW8e3j8g"
      },
      "source": [
        "Yüzlerin Tespit Edilmesi: detectMultiScale() fonksiyonu kullanılarak yüzler tespit edilir. Bu fonksiyon gri tonlamalı görüntü ve tespit için kullanılacak parametreler alır."
      ]
    },
    {
      "cell_type": "code",
      "execution_count": null,
      "metadata": {
        "id": "XMTzexYQ3oan"
      },
      "outputs": [],
      "source": [
        "face = face_classifier.detectMultiScale(\n",
        "    gray_image, scaleFactor=1.1, minNeighbors=5, minSize=(40, 40)\n",
        ")"
      ]
    },
    {
      "cell_type": "markdown",
      "metadata": {
        "id": "G_vXhedt3poO"
      },
      "source": [
        "Yüzlerin Kare İçine Alınması: for döngüsüyle, her bir yüzün koordinatları alınır ve cv2.rectangle() fonksiyonu kullanılarak bu koordinatlar üzerinde bir dikdörtgen çizilir."
      ]
    },
    {
      "cell_type": "code",
      "execution_count": null,
      "metadata": {
        "id": "y59RYpfn3tPa"
      },
      "outputs": [],
      "source": [
        "for (x, y, w, h) in face:\n",
        "    cv2.rectangle(img, (x, y), (x + w, y + h), (0, 255, 0), 4)"
      ]
    },
    {
      "cell_type": "markdown",
      "metadata": {
        "id": "jLjeFHfw3uff"
      },
      "source": [
        "Resmin Renk Uzayının Değiştirilmesi: cv2.cvtColor() fonksiyonu kullanılarak, OpenCV'nin varsayılan renk uzayından (BGR) RGB renk uzayına dönüşüm yapılır. Bu, matplotlib kütüphanesi ile uyumlu hale getirir.\n",
        "\n"
      ]
    },
    {
      "cell_type": "code",
      "execution_count": null,
      "metadata": {
        "id": "D6zK9Lxn3yHo"
      },
      "outputs": [],
      "source": [
        "img_rgb = cv2.cvtColor(img, cv2.COLOR_BGR2RGB)"
      ]
    },
    {
      "cell_type": "markdown",
      "metadata": {
        "id": "2dGE5CXS3z5K"
      },
      "source": [
        " Resmin Gösterilmesi: Son olarak, matplotlib kütüphanesi kullanılarak resim gösterilir. plt.imshow() fonksiyonu ile resim gösterilir ve plt.axis('off') ile eksenler kapatılır. plt.show() komutu kullanılmamıştır, çünkü notebook ortamında otomatik olarak gösterilmektedir."
      ]
    },
    {
      "cell_type": "code",
      "execution_count": null,
      "metadata": {
        "id": "40x8X2Bd2pyo"
      },
      "outputs": [],
      "source": [
        "import matplotlib.pyplot as plt\n",
        "\n",
        "plt.figure(figsize=(20,10))\n",
        "plt.imshow(img_rgb)\n",
        "plt.axis('off')"
      ]
    },
    {
      "cell_type": "markdown",
      "metadata": {
        "id": "dHQTNtjP4NB2"
      },
      "source": [
        "##### Real-Time OpenCV Face Detection Uygulaması\n",
        "\n",
        "Yukarıdaki uygulamayı aşağıdaki şekilde bilgisayarınızın webcami üzerinde canlı olarak deneyebilirsiniz."
      ]
    },
    {
      "cell_type": "code",
      "execution_count": null,
      "metadata": {
        "id": "pudzqfXx4Y2T"
      },
      "outputs": [],
      "source": [
        "import cv2\n",
        "\n",
        "face_classifier = cv2.CascadeClassifier(\n",
        "    cv2.data.haarcascades + \"haarcascade_frontalface_default.xml\"\n",
        ")\n",
        "\n",
        "video_capture = cv2.VideoCapture(0)\n",
        "\n",
        "def detect_bounding_box(vid):\n",
        "    gray_image = cv2.cvtColor(vid, cv2.COLOR_BGR2GRAY)\n",
        "    faces = face_classifier.detectMultiScale(gray_image, 1.1, 5, minSize=(40, 40))\n",
        "    for (x, y, w, h) in faces:\n",
        "        cv2.rectangle(vid, (x, y), (x + w, y + h), (0, 255, 0), 4)\n",
        "    return faces\n",
        "\n",
        "while True:\n",
        "\n",
        "    result, video_frame = video_capture.read()  # read frames from the video\n",
        "    if result is False:\n",
        "        break  # terminate the loop if the frame is not read successfully\n",
        "\n",
        "    faces = detect_bounding_box(\n",
        "        video_frame\n",
        "    )  # apply the function we created to the video frame\n",
        "\n",
        "    cv2.imshow(\n",
        "        \"My Face Detection Project\", video_frame\n",
        "    )  # display the processed frame in a window named \"My Face Detection Project\"\n",
        "\n",
        "    if cv2.waitKey(1) & 0xFF == ord(\"q\"):\n",
        "        break\n",
        "\n",
        "video_capture.release()\n",
        "cv2.destroyAllWindows()"
      ]
    },
    {
      "cell_type": "markdown",
      "metadata": {
        "id": "QppnHN675Qt5"
      },
      "source": [
        "### PyTorch"
      ]
    },
    {
      "cell_type": "markdown",
      "metadata": {
        "id": "TQop4pH25TXr"
      },
      "source": [
        "PyTorch, derin öğrenme ve yapay sinir ağları üzerine odaklanmış bir Python kütüphanesidir. Bilgisayarlı görü uygulamaları için PyTorch'u kullanarak derin öğrenme modelleri oluşturabilir, eğitebilir ve değerlendirebilirsiniz.\n",
        "\n",
        "\n",
        "* Veri Yükleme ve Hazırlama: PyTorch, görüntü veri setlerini yüklemek ve hazırlamak için kullanabileceğiniz çeşitli yardımcı araçlar sağlar. torchvision modülü, yaygın veri kümelerine (MNIST, CIFAR-10, ImageNet vb.) ve veri dönüşümlerine erişim sağlar.\n",
        "\n",
        "* Model Oluşturma: Bilgisayarlı görüde kullanılan en yaygın derin öğrenme modeli Convolutional Neural Networks (CNN) dir. PyTorch, bu tür modelleri oluşturmak için torch.nn modülünü sağlar. Bu modül, farklı katman türlerini (convolutional, pooling, fully connected vb.) ve aktivasyon fonksiyonlarını içerir.\n",
        "\n",
        "* Model Eğitimi: Modelinizi eğitmek için, PyTorch'un otomatik gradyan hesaplama yeteneklerinden yararlanabilirsiniz. Bu, geriye doğru geçiş (backpropagation) sırasında gradyanları hesaplamanıza ve optimize edici (optimizer) algoritması kullanarak model parametrelerini güncellemenize olanak tanır. Yaygın optimize edici algoritmalar arasında SGD, Adam, RMSprop vb. bulunur.\n",
        "\n",
        "* Model Değerlendirme: Eğitilen modelin performansını değerlendirmek için, test veri seti üzerinde doğruluk (accuracy), kesinlik (precision), duyarlılık (recall) gibi metrikleri kullanabilirsiniz. PyTorch'un tahmin yapma yeteneklerini kullanarak modelin test veri seti üzerindeki performansını değerlendirebilirsiniz.\n",
        "\n",
        "* Transfer Öğrenme ve İfe-Önceden Eğitilmiş Modeller: Görüntü sınıflandırma veya nesne tespiti gibi görevler için, ifade ön eğitilmiş modellerden (örneğin, ResNet, VGG, EfficientNet vb.) yararlanabilirsiniz. Bu modelleri PyTorch üzerinden yükleyebilir ve özelleştirebilirsiniz. Ayrıca, transfer öğrenme tekniklerini kullanarak, önceden eğitilmiş modelleri kendi veri setinizle fevkalade ayarlayabilirsiniz.\n",
        "\n",
        "* Görüntü İşleme ve Data Augmentation: Veri artırma (data augmentation), eğitim veri setinizi çeşitlendirmenin etkili bir yoludur ve modelinizin genelleştirme yeteneğini artırabilir. PyTorch'un torchvision.transforms modülü, görüntü veri setiniz üzerinde çeşitli dönüşümler (döndürme, yansıma, kırpma vb.) uygulamanıza olanak tanır.\n",
        "\n",
        "* Hızlandırma ve Paralelleştirme: Büyük veri setleri ve karmaşık modellerle çalışırken, model eğitimini hızlandırmak için GPU'lar veya çoklu işlemcilerden faydalanabilirsiniz. PyTorch, CUDA tabanlı GPU hesaplama yeteneklerini destekler ve modelinizi bu kaynaklar üzerinde eğitmek için kolaylık sağlar.\n",
        "\n",
        "* Torchvision Modülü: Görüntü veri yükleme, dönüştürme, veri kümesi oluşturma ve önceden eğitilmiş modellerin kullanımı gibi birçok görüntü odaklı işlevi sağlayan bir PyTorch alt modülüdür."
      ]
    },
    {
      "cell_type": "markdown",
      "metadata": {},
      "source": [
        "# Okuma Köşesi\n",
        "\n",
        "### Yapay Zekalar Görebilirler mi?\n",
        "Bu yetenek, özellikle bilgisayarlı görü (computer vision) adı verilen bir teknoloji sayesinde mümkün olur. Bir yapay zeka, bir fotoğraftaki kediyi veya köpeği tanıyabilir, Otonom arabalar, yoldaki işaretleri ve yayaları algılayabilir, Telefonunuzdaki yüz tanıma sistemi, yüzünüzü tanıyıp kilidi açabilir. Yani, yapay zekalar görsel verileri işleyebilir ve bu verilerden anlam çıkarabilir, ancak bunu insanlar gibi \"görerek\" değil, matematiksel hesaplamalarla yapar. \n",
        "\n",
        "### Bilgisayarlı Görü (Computer Vision)\n",
        "Bilgisayarlı Görü (Computer Vision), bilgisayarların dijital görüntüleri ve videoları anlamasını, analiz etmesini ve yorumlamasını sağlayan bir yapay zeka alanıdır. İnsanların gözleriyle gördüklerini algılaması gibi, bilgisayarlı görü de kameralar ve sensörler aracılığıyla görüntüleri işleyerek nesne tanıma, yüz tanıma, hareket algılama ve görüntü segmentasyonu gibi görevleri yerine getirir. Bu teknoloji, sağlık, otomotiv, güvenlik ve üretim gibi birçok alanda kullanılır.\n",
        "\n",
        "- https://www.researchgate.net/profile/Enes-Tuenay/publication/376409477_THE_USE_OF_COMPUTER_VISION_TECHNOLOGY_IN_MINE_OPERATIONS_MANAGEMENT/links/65775941cbd2c535ea17bc65/THE-USE-OF-COMPUTER-VISION-TECHNOLOGY-IN-MINE-OPERATIONS-MANAGEMENT.pdf\n"
      ]
    },
    {
      "cell_type": "markdown",
      "metadata": {},
      "source": [
        "* https://turkiye.ai/kaynaklar/yapay-zeka-zaman-cizelgesi/"
      ]
    },
    {
      "cell_type": "markdown",
      "metadata": {
        "id": "ye8kx9xA57pg"
      },
      "source": [
        "## Ödev:\n",
        "\n",
        "* https://medium.com/@nutanbhogendrasharma/pytorch-convolutional-neural-network-with-mnist-dataset-4e8a4265e118 linkten yararlanarak MNIST veri seti üzerinde sınıflandırma uygulaması geliştiriniz.\n"
      ]
    },
    {
      "cell_type": "code",
      "execution_count": null,
      "metadata": {
        "id": "PsUW4K666Hct"
      },
      "outputs": [],
      "source": [
        "# Ödev kodunu buraya yazınız."
      ]
    }
  ],
  "metadata": {
    "colab": {
      "provenance": []
    },
    "kernelspec": {
      "display_name": "Python 3",
      "name": "python3"
    },
    "language_info": {
      "name": "python"
    }
  },
  "nbformat": 4,
  "nbformat_minor": 0
}
