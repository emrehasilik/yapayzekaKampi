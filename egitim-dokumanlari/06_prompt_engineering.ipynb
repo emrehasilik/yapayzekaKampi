{
 "cells": [
  {
   "cell_type": "markdown",
   "id": "d7f37de4",
   "metadata": {},
   "source": [
    "# ✨ YAPAY ZEKA TOPLULUĞU | YAPAY ZEKA GELİŞİM KAMPI\n",
    "## 🎖️ MIDDLE PLUS HAFTA 6\n",
    "\n"
   ]
  },
  {
   "cell_type": "markdown",
   "id": "7b4956d8",
   "metadata": {},
   "source": [
    " ## Prompt Engineering ve LLM Uygulama Tasarımı\n",
    "\n"
   ]
  },
  {
   "cell_type": "markdown",
   "id": "fbbd51f1",
   "metadata": {},
   "source": [
    "##  Prompt Engineering Nedir?\n",
    "\n",
    "Prompt engineering, basit anlamda bir büyük dil modelinden (LLM) etkili yanıt alabilmek için girdiyi doğru şekilde tasarlama sürecidir. Sadece \"ne sorulduğu\" değil, \"nasıl sorulduğu\" da önemlidir.\n",
    "\n",
    "📌 Neden Önemlidir?\n",
    "\n",
    "Aynı görev, farklı promptlarla çok farklı kalitede sonuçlar üretebilir.\n",
    "\n",
    "Daha az model eğitimiyle daha çok iş başarılabilir.\n",
    "\n",
    "Basit Teknikler:\n",
    "\n",
    "* Görev netliğini artırmak (\"bir cümlede açıkla\")\n",
    "\n",
    "* Rol tanımı yapmak (\"sen bir tarih profesörüsün\")\n",
    "\n",
    "* Format belirtmek (\"cevabı sadece JSON formatında ver\")\n",
    "\n",
    "* Adım adım düşünmeyi istemek (\"Let's think step by step\")\n"
   ]
  },
  {
   "cell_type": "markdown",
   "id": "129ec363",
   "metadata": {},
   "source": [
    "## Prompt Türleri   \n",
    "-----> https://youtu.be/sZIV7em3JA8\n",
    "\n",
    "**Zero-shot Prompting**\n",
    "\n",
    "Hiç örnek verilmeden görev tanımı yapılır.\n",
    "```python\n",
    "\"Bir cümlede yapay zekayı açıkla.\"\n",
    "```\n",
    "**One-shot Prompting**\n",
    "\n",
    "Tek bir örnek verilir.\n",
    "```python\n",
    "\"Örnek: Selam → Hello. Şimdi: Nasılsın?\"\n",
    "```\n",
    "**Few-shot Prompting**\n",
    "\n",
    "Birden fazla örnek ile modelin desen öğrenmesi sağlanır.\n",
    "```python\n",
    "\"Ev → House, Kitap → Book. Kalem → ?\"\n",
    "```\n",
    "**Chain-of-Thought Prompting**\n",
    "\n",
    "Modelden mantık yürütmesini istemek için kullanılır."
   ]
  },
  {
   "cell_type": "markdown",
   "id": "68aa8395",
   "metadata": {},
   "source": [
    "## Fine-Tuning\n",
    "\n",
    "Fine-tuning, bir LLM'nin davranışını değiştirmek için az sayıda yeni veri ile yeniden eğitilmesidir.\n",
    "\n",
    "Örnek kullanım senaryosu:\n",
    "\n",
    "Bir şirketin destek chatbot’unun sadece kendi verileriyle eğitilmesi\n",
    "\n",
    "Fine-tuning pahalıdır, bu yüzden ilk tercih değil – prompt engineering ve RAG genelde önce gelir.\n"
   ]
  },
  {
   "cell_type": "markdown",
   "id": "257c5d49",
   "metadata": {},
   "source": [
    "##  RAG\n",
    "\n",
    "Modelin bilgisinin ötesine geçmesi için dış kaynaklardan (örneğin PDF, veri tabanı) bilgi çekilmesini sağlar.\n",
    "\n",
    "Adımlar:\n",
    "\n",
    "Belgelerden embedding (vektör temsili) çıkarılır.\n",
    "\n",
    "Soru geldiğinde en alakalı parçalar bulunur.\n",
    "\n",
    "Bu bilgi LLM'e verilerek cevap alınır.\n",
    "\n",
    "```python\n",
    "# Örnek\n",
    "query = \"Kamp saat kaçta başlıyor?\"\n",
    "docs_found = db.similarity_search(query)\n",
    "```\n"
   ]
  },
  {
   "cell_type": "markdown",
   "id": "95948c12",
   "metadata": {},
   "source": [
    "##  LangChain\n",
    "\n",
    "LangChain, LLM’leri diğer sistemlerle entegre etmeyi kolaylaştıran bir Python framework’üdür.\n",
    "\n",
    "**Temel Bileşenler:**\n",
    "\n",
    "- PromptTemplate: Dinamik prompt oluşturur.\n",
    "\n",
    "- LLMChain: Prompt → Model → Yanıt zinciri\n",
    "\n",
    "- VectorStore: RAG için gerekli bellek yapısı\n",
    "\n",
    "- Tool, Memory, Agent: Gelişmiş kullanım\n",
    "\n",
    "- LangChain, özellikle RAG ve agent sistemlerinde tercih edilir.\n"
   ]
  },
  {
   "cell_type": "markdown",
   "id": "14472eaa",
   "metadata": {},
   "source": [
    "## LangGraph\n",
    "\n",
    "LangGraph, LangChain üzerine kurulmuş bir \"durum makinesi\" (state machine) framework’üdür. Bu yapı, birden fazla adım içeren, dallanan ve koşula bağlı olarak farklı yollar izleyen LLM uygulamalarında akış kontrolü sağlamaya yarar.\n",
    "\n",
    "LangGraph ile geliştirici, bir LLM’in girdiye göre izlemesi gereken yolu grafik tabanlı olarak tanımlar. Bu yollar; dosya yüklenip yüklenmediğine, kullanıcıdan gelen komutun türüne ya da önceki adımdaki çıktıya göre dallanabilir.\n",
    "\n",
    "**Kullanım Senaryosu:**\n",
    "\n",
    "Örneğin bir öğrenci danışman asistanı geliştiriyorsak:\n",
    "\n",
    "Kullanıcı PDF yüklediyse → özetleme düğümüne git → özetle\n",
    "\n",
    "Kullanıcı bir soru sorduysa → RAG sorgu düğümüne git → cevabı getir\n",
    "\n",
    "Kullanıcı not ortalaması sorarsa → tool çağırma düğümüne git\n",
    "\n",
    "LangGraph bu geçişleri mantıksal bir grafik (düğümler ve kenarlar) üzerinden tanımlar. Bu da özellikle çok adımlı ve karar temelli yapay zeka sistemlerinde LangChain’i çok daha güçlü hale getirir.\n"
   ]
  },
  {
   "cell_type": "markdown",
   "id": "86604d39",
   "metadata": {},
   "source": [
    "## Agent\n",
    "\n",
    "Agent sistemi, büyük dil modelinin (LLM) bir kullanıcıdan gelen komutu anlayarak hangi aracı (Tool) çalıştırması gerektiğine kendiliğinden karar verdiği akıllı bir yapıdır. LLM bu süreçte doğal dili analiz eder, niyeti belirler ve ilgili işlemi otomatik olarak tetikler.\n",
    "\n",
    "Örnek Senaryo:\n",
    "\n",
    "Kullanıcı: \"Bugünkü döviz kuru?\"\n",
    "\n",
    "Agent: \"Bu bilgi için doviz_kur_getir adlı aracı kullanmam gerekiyor\" → Tool'u çağırır ve sonucu kullanıcıya sunar.\n",
    "\n",
    "LangChain framework’ü içerisinde bu yapı initialize_agent() fonksiyonu ile başlatılır. Tool’lara açıklayıcı görev tanımları verilir, böylece model hangi aracı ne zaman ve nasıl kullanacağını anlayabilir.\n",
    "\n",
    "Agent sistemleri, özellikle birden fazla veri kaynağına ya da işlem türüne sahip uygulamalarda esnek ve akıllı çözüm sağlar.\n",
    "\n",
    "LangChain örneği:\n",
    "```python\n",
    "agent.run(\"Bugün hava nasıl?\")\n",
    "```\n"
   ]
  },
  {
   "cell_type": "markdown",
   "id": "4c8b639f",
   "metadata": {},
   "source": [
    "## Tool Calling\n",
    "\n",
    "Tool Calling, bir LLM'nin tanımlanmış fonksiyonları otomatik şekilde çağırmasını sağlar.\n",
    "\n",
    "OpenAI'de function_call, Anthropic'te tool_use olarak adlandırılır.\n",
    "\n",
    "\n",
    "Böylece modelin bilgisi API'den çekilen verilerle desteklenir.\n",
    "\n",
    "```json\n",
    "{\n",
    "  \"tool\": \"get_weather\",\n",
    "  \"args\": { \"city\": \"Istanbul\" }\n",
    "}\n",
    "```\n"
   ]
  },
  {
   "cell_type": "markdown",
   "id": "9e6e6f79",
   "metadata": {},
   "source": [
    "## 📚 Kaynaklar\n",
    "\n",
    "- https://www.youtube.com/watch?v=aZijAwhLjgQ\n",
    "- https://medium.com/%40mariaaawaheed/mastering-tools-and-tool-calling-agents-in-langchain-a-comprehensive-guide-18a566f2aac5\n",
    "- https://www.youtube.com/watch?v=HoonGqt7XpM\n",
    "\n"
   ]
  },
  {
   "cell_type": "markdown",
   "id": "840abafe",
   "metadata": {},
   "source": [
    "## Ödev\n",
    "\n",
    " ----> https://youtu.be/K5JoO-kGlCs\n",
    " \n",
    "- Videoda anlatılan Agent ve Tool sistemini adım adım kurarak çalıştırınız. Uygulama sırasında kullandığınız kodları ve elde ettiğiniz örnek çıktılarını .ipynb dosyasına ekleyerek teslim ediniz.\n"
   ]
  }
 ],
 "metadata": {
  "language_info": {
   "name": "python"
  }
 },
 "nbformat": 4,
 "nbformat_minor": 5
}
